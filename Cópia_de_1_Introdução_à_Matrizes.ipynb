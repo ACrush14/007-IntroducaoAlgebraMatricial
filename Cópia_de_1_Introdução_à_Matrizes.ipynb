{
  "nbformat": 4,
  "nbformat_minor": 0,
  "metadata": {
    "colab": {
      "provenance": [],
      "include_colab_link": true
    },
    "kernelspec": {
      "name": "python3",
      "display_name": "Python 3"
    },
    "language_info": {
      "name": "python"
    }
  },
  "cells": [
    {
      "cell_type": "markdown",
      "metadata": {
        "id": "view-in-github",
        "colab_type": "text"
      },
      "source": [
        "<a href=\"https://colab.research.google.com/github/ACrush14/007-IntroducaoAlgebraMatricial/blob/main/C%C3%B3pia_de_1_Introdu%C3%A7%C3%A3o_%C3%A0_Matrizes.ipynb\" target=\"_parent\"><img src=\"https://colab.research.google.com/assets/colab-badge.svg\" alt=\"Open In Colab\"/></a>"
      ]
    },
    {
      "cell_type": "markdown",
      "source": [
        "<img src='https://www.unifor.br/o/unifor-theme/images/unifor-logo-horizontal.svg' width=\"250px\">\n",
        "\n",
        "# Álgebra Matricial\n",
        "\n",
        "Prof. Túlio Ribeiro<br>\n",
        "Laboratório de Ciência de Dados e Inteligência Artificial (LCDIA)<br>\n",
        "Universidade de Fortaleza"
      ],
      "metadata": {
        "id": "FsmrRmuGOt-_"
      }
    },
    {
      "cell_type": "markdown",
      "source": [
        "# Introdução a Matrizes com NumPy\n",
        "Este notebook apresenta os principais tipos de matrizes, operações básicas e conceitos relacionados como transposta e simetria.\n"
      ],
      "metadata": {
        "id": "_KMosKfqY3et"
      }
    },
    {
      "cell_type": "markdown",
      "source": [
        "# 1. Conceitos Básicos"
      ],
      "metadata": {
        "id": "jiHRIiIFO0Jl"
      }
    },
    {
      "cell_type": "markdown",
      "source": [
        "## Escalares"
      ],
      "metadata": {
        "id": "CKISCxcCaTfs"
      }
    },
    {
      "cell_type": "code",
      "source": [
        "1"
      ],
      "metadata": {
        "id": "QridR7n0T6Uh",
        "colab": {
          "base_uri": "https://localhost:8080/"
        },
        "outputId": "a0008c75-61c9-4925-b836-cc9d0de3f5d3"
      },
      "execution_count": null,
      "outputs": [
        {
          "output_type": "execute_result",
          "data": {
            "text/plain": [
              "1"
            ]
          },
          "metadata": {},
          "execution_count": 120
        }
      ]
    },
    {
      "cell_type": "code",
      "source": [
        "# Soma\n",
        "1 + 2"
      ],
      "metadata": {
        "colab": {
          "base_uri": "https://localhost:8080/"
        },
        "id": "w1zH1TbQX6Bg",
        "outputId": "67355f69-b6d5-4304-8163-d0fd287fdaa7"
      },
      "execution_count": null,
      "outputs": [
        {
          "output_type": "execute_result",
          "data": {
            "text/plain": [
              "3"
            ]
          },
          "metadata": {},
          "execution_count": 121
        }
      ]
    },
    {
      "cell_type": "markdown",
      "source": [
        "## Vetores"
      ],
      "metadata": {
        "id": "7LsdZkItTxhB"
      }
    },
    {
      "cell_type": "code",
      "source": [
        "import numpy as np\n",
        "\n",
        "u = np.array([1, 1])\n",
        "print(u)"
      ],
      "metadata": {
        "colab": {
          "base_uri": "https://localhost:8080/"
        },
        "id": "su9rAxNxT5n7",
        "outputId": "cb8f5d9a-cd0d-41e9-8281-d3ff70d270c7"
      },
      "execution_count": null,
      "outputs": [
        {
          "output_type": "stream",
          "name": "stdout",
          "text": [
            "[1 1]\n"
          ]
        }
      ]
    },
    {
      "cell_type": "code",
      "source": [
        "v = np.array([1, -1])\n",
        "print(v)"
      ],
      "metadata": {
        "colab": {
          "base_uri": "https://localhost:8080/"
        },
        "id": "hmijx7nzYz33",
        "outputId": "5f877e54-aa52-4891-8e8d-bb5e84def7c6"
      },
      "execution_count": null,
      "outputs": [
        {
          "output_type": "stream",
          "name": "stdout",
          "text": [
            "[ 1 -1]\n"
          ]
        }
      ]
    },
    {
      "cell_type": "code",
      "source": [
        "# Soma\n",
        "w = u + v\n",
        "print(w)"
      ],
      "metadata": {
        "colab": {
          "base_uri": "https://localhost:8080/"
        },
        "id": "O2KnPGZpY53H",
        "outputId": "e3a6cad0-400f-4100-b0b6-9af97c8c432d"
      },
      "execution_count": null,
      "outputs": [
        {
          "output_type": "stream",
          "name": "stdout",
          "text": [
            "[2 0]\n"
          ]
        }
      ]
    },
    {
      "cell_type": "code",
      "source": [
        "# Multiplicação por um escalar\n",
        "w = 3 * v\n",
        "print(w)"
      ],
      "metadata": {
        "colab": {
          "base_uri": "https://localhost:8080/"
        },
        "id": "DXEmX8s9dZLn",
        "outputId": "f231e736-0538-413b-b5b0-f956e22537b7"
      },
      "execution_count": null,
      "outputs": [
        {
          "output_type": "stream",
          "name": "stdout",
          "text": [
            "[ 3 -3]\n"
          ]
        }
      ]
    },
    {
      "cell_type": "markdown",
      "source": [
        "## Matrizes:"
      ],
      "metadata": {
        "id": "BBaa-FQPT1j5"
      }
    },
    {
      "cell_type": "code",
      "source": [
        "A = np.array([[1, 0, 2],\n",
        "              [1, 3, 0],\n",
        "              [2, 1, 2]])\n",
        "print(A)"
      ],
      "metadata": {
        "colab": {
          "base_uri": "https://localhost:8080/"
        },
        "id": "Ih-WpEogJbMD",
        "outputId": "1b631603-f715-475d-f482-33f8725cd519"
      },
      "execution_count": null,
      "outputs": [
        {
          "output_type": "stream",
          "name": "stdout",
          "text": [
            "[[1 0 2]\n",
            " [1 3 0]\n",
            " [2 1 2]]\n"
          ]
        }
      ]
    },
    {
      "cell_type": "code",
      "source": [
        "filtro = A > 50\n",
        "print(\"Máscara booleana (A > 50):\\n\", filtro)\n",
        "\n",
        "resultado = A[filtro]\n",
        "print(\"Elementos maiores que 50:\\n\", resultado)"
      ],
      "metadata": {
        "id": "S4W52DCkyQyh"
      },
      "execution_count": null,
      "outputs": []
    },
    {
      "cell_type": "code",
      "source": [
        "pares = A[A % 2 == 0]\n",
        "print(\"Elementos pares:\\n\", pares)"
      ],
      "metadata": {
        "id": "-nez1Xn-ySvP"
      },
      "execution_count": null,
      "outputs": []
    },
    {
      "cell_type": "code",
      "source": [
        "print(\"Segunda linha (índice 1):\", A[1])\n",
        "print(\"Terceira coluna (índice 2):\", A[:, 2])"
      ],
      "metadata": {
        "id": "p8wQGGvMyUPe"
      },
      "execution_count": null,
      "outputs": []
    },
    {
      "cell_type": "code",
      "source": [
        "submatriz = A[0:2, 1:3]  # linhas 0 e 1, colunas 1 e 2\n",
        "print(\"Submatriz 2x2 extraída de A:\\n\", submatriz)"
      ],
      "metadata": {
        "id": "sl5DexdMyV3I"
      },
      "execution_count": null,
      "outputs": []
    },
    {
      "cell_type": "code",
      "source": [
        "A[A < 50] = 0\n",
        "print(\"A após zerar valores menores que 50:\\n\", A)"
      ],
      "metadata": {
        "id": "ZDoVJ04ayY1A"
      },
      "execution_count": null,
      "outputs": []
    },
    {
      "cell_type": "code",
      "source": [
        "B = np.array([[1, 1, 0],\n",
        "              [0, 1, 0],\n",
        "              [0, 1, 0]])\n",
        "print(B)"
      ],
      "metadata": {
        "colab": {
          "base_uri": "https://localhost:8080/"
        },
        "id": "kKYPuK_ue20c",
        "outputId": "ed0d67e9-5650-4701-ee00-8f27728c9a1e"
      },
      "execution_count": null,
      "outputs": [
        {
          "output_type": "stream",
          "name": "stdout",
          "text": [
            "[[1 1 0]\n",
            " [0 1 0]\n",
            " [0 1 0]]\n"
          ]
        }
      ]
    },
    {
      "cell_type": "code",
      "source": [
        "# Adição\n",
        "C = A + B\n",
        "print(C)"
      ],
      "metadata": {
        "colab": {
          "base_uri": "https://localhost:8080/"
        },
        "id": "H_CrNURQfA-G",
        "outputId": "a0f83513-cd48-4c10-ca31-ee6edd706802"
      },
      "execution_count": null,
      "outputs": [
        {
          "output_type": "stream",
          "name": "stdout",
          "text": [
            "[[2 1 2]\n",
            " [1 4 0]\n",
            " [2 2 2]]\n"
          ]
        }
      ]
    },
    {
      "cell_type": "code",
      "source": [
        "# Multiplicação por um escalar\n",
        "C = 2 * A\n",
        "print(C)"
      ],
      "metadata": {
        "colab": {
          "base_uri": "https://localhost:8080/"
        },
        "id": "jPxKTEj4gjAv",
        "outputId": "7ec67176-445f-431c-e201-91fad74c6584"
      },
      "execution_count": null,
      "outputs": [
        {
          "output_type": "stream",
          "name": "stdout",
          "text": [
            "[[2 0 4]\n",
            " [2 6 0]\n",
            " [4 2 4]]\n"
          ]
        }
      ]
    },
    {
      "cell_type": "markdown",
      "source": [
        "# 2. Tipos de Matrizes\n",
        "\n",
        "As matrizes podem ser categorizadas de acordo com alguns tipos básicos:\n",
        "\n",
        "- **Matriz quadrada:** Se possuir o mesmo número de linhas e colunas.\n",
        "\n",
        "- **Matriz nula:** É uma matriz quadrada ou retangular, onde todas as entradas são nulas.\n",
        "\n",
        "- **Matriz diagonal:** Se todos os elementos fora da diagonal principal forem nulos.\n",
        "\n",
        "- **Matriz identidade:** É uma matriz diagonal onde os elementos da diagonal são 1.\n",
        "\n",
        "- **Matriz escalar:** Se for o produto de um escalar com a matriz identidade.\n",
        "\n",
        "- **Matriz triangular inferior e superior:** É a uma matriz onde abaixo (ou acima) da diagonal as entradas são todas iguais a zero\n",
        "\n",
        "-  **Matriz linha e Matriz Coluna:** É a matriz formada por uma linha e n colunas e a matriz formada por n linhas e 1 coluna\n",
        "\n",
        "\n"
      ],
      "metadata": {
        "id": "67ALsujDsNkh"
      }
    },
    {
      "cell_type": "markdown",
      "source": [
        "**Matriz Quadrada**"
      ],
      "metadata": {
        "id": "EmdgLxj6P5Vb"
      }
    },
    {
      "cell_type": "code",
      "source": [
        "A = np.array([[1, 0, 2],\n",
        "              [1, 3, 0],\n",
        "              [2, 1, 2]])\n",
        "\n",
        "print(\"Matriz Quadrada:\\n\", A)\n",
        "print(\"Shape:\", A.shape)"
      ],
      "metadata": {
        "colab": {
          "base_uri": "https://localhost:8080/"
        },
        "id": "FKsssaEIcjA5",
        "outputId": "b297082c-4b67-4d0d-bda4-86c53d5e078c"
      },
      "execution_count": null,
      "outputs": [
        {
          "output_type": "stream",
          "name": "stdout",
          "text": [
            "Matriz Quadrada:\n",
            " [[1 0 2]\n",
            " [1 3 0]\n",
            " [2 1 2]]\n",
            "Shape: (3, 3)\n"
          ]
        }
      ]
    },
    {
      "cell_type": "code",
      "source": [
        "print(\"É quadrada?\", A.shape[0] == A.shape[1])"
      ],
      "metadata": {
        "colab": {
          "base_uri": "https://localhost:8080/"
        },
        "id": "OzpoeGhYQ2r7",
        "outputId": "e39dff2a-8e14-47e4-8921-053cbef108dc"
      },
      "execution_count": null,
      "outputs": [
        {
          "output_type": "stream",
          "name": "stdout",
          "text": [
            "É quadrada? True\n"
          ]
        }
      ]
    },
    {
      "cell_type": "code",
      "source": [
        "# Matriz Não-quadrada\n",
        "A = np.array([[1, 0],\n",
        "              [1, 3],\n",
        "              [2, 1]])\n",
        "print(\"Matriz Não-quadrada:\\n\", A)\n",
        "print(\"Shape:\", A.shape)\n",
        "print(\"É quadrada?\", A.shape[0] == A.shape[1])"
      ],
      "metadata": {
        "colab": {
          "base_uri": "https://localhost:8080/"
        },
        "id": "KIQFYDIsc_th",
        "outputId": "8658da6f-d9a6-4615-d3b5-0a2881a99674"
      },
      "execution_count": null,
      "outputs": [
        {
          "output_type": "stream",
          "name": "stdout",
          "text": [
            "Matriz Não-quadrada:\n",
            " [[1 0]\n",
            " [1 3]\n",
            " [2 1]]\n",
            "Shape: (3, 2)\n",
            "É quadrada? False\n"
          ]
        }
      ]
    },
    {
      "cell_type": "markdown",
      "source": [
        "**Matriz Nula**"
      ],
      "metadata": {
        "id": "41Y4-oTva4tH"
      }
    },
    {
      "cell_type": "code",
      "source": [
        "Z = np.zeros((3, 3), dtype=int)\n",
        "print(\"Matriz Nula:\\n\", Z)"
      ],
      "metadata": {
        "colab": {
          "base_uri": "https://localhost:8080/"
        },
        "id": "ydKCHgyGa6mj",
        "outputId": "6c7e42e0-03e3-47f5-c078-800a76b7d49b"
      },
      "execution_count": null,
      "outputs": [
        {
          "output_type": "stream",
          "name": "stdout",
          "text": [
            "Matriz Nula:\n",
            " [[0 0 0]\n",
            " [0 0 0]\n",
            " [0 0 0]]\n"
          ]
        }
      ]
    },
    {
      "cell_type": "markdown",
      "source": [
        "**Matriz Diagonal**"
      ],
      "metadata": {
        "id": "ccBWG-c8QP92"
      }
    },
    {
      "cell_type": "code",
      "source": [
        "A = np.array([[1, 0, 0, 0],\n",
        "              [0, 3, 0, 0],\n",
        "              [0, 0, 0, 0],\n",
        "              [0, 0, 0, 5]])\n",
        "print(\"Matriz Diagonal:\\n\", A)\n",
        "print('É diagonal? ' + str(np.allclose(A, np.diag(np.diag(A)))))"
      ],
      "metadata": {
        "colab": {
          "base_uri": "https://localhost:8080/"
        },
        "id": "PEBHoJPZQTle",
        "outputId": "3b85d8cd-6c8a-4bf0-e841-ca59321e79d0"
      },
      "execution_count": null,
      "outputs": [
        {
          "output_type": "stream",
          "name": "stdout",
          "text": [
            "Matriz Diagonal:\n",
            " [[1 0 0 0]\n",
            " [0 3 0 0]\n",
            " [0 0 0 0]\n",
            " [0 0 0 5]]\n",
            "É diagonal? True\n"
          ]
        }
      ]
    },
    {
      "cell_type": "code",
      "source": [
        "A = np.zeros((4, 4), int)\n",
        "\n",
        "np.fill_diagonal(A, [1, 3, 2, 5])\n",
        "\n",
        "print(\"Matriz Diagonal:\\n\", A)\n",
        "print('É diagonal? ' + str(np.allclose(A, np.diag(np.diag(A)))))"
      ],
      "metadata": {
        "colab": {
          "base_uri": "https://localhost:8080/"
        },
        "id": "ErxN6J2ZdNSi",
        "outputId": "a6873ed6-3605-41a8-e47d-814f951a7838"
      },
      "execution_count": null,
      "outputs": [
        {
          "output_type": "stream",
          "name": "stdout",
          "text": [
            "Matriz Diagonal:\n",
            " [[1 0 0 0]\n",
            " [0 3 0 0]\n",
            " [0 0 2 0]\n",
            " [0 0 0 5]]\n",
            "É diagonal? True\n"
          ]
        }
      ]
    },
    {
      "cell_type": "code",
      "source": [
        "np.diag([1, 3, 2, 5])"
      ],
      "metadata": {
        "colab": {
          "base_uri": "https://localhost:8080/"
        },
        "id": "88HYvbSDRsmX",
        "outputId": "52efd180-3277-418c-c4e3-f8c83410d16c"
      },
      "execution_count": null,
      "outputs": [
        {
          "output_type": "execute_result",
          "data": {
            "text/plain": [
              "array([[1, 0, 0, 0],\n",
              "       [0, 3, 0, 0],\n",
              "       [0, 0, 2, 0],\n",
              "       [0, 0, 0, 5]])"
            ]
          },
          "metadata": {},
          "execution_count": 136
        }
      ]
    },
    {
      "cell_type": "markdown",
      "source": [
        "**Matriz Identidade**"
      ],
      "metadata": {
        "id": "95VTOmGsQnzz"
      }
    },
    {
      "cell_type": "code",
      "source": [
        "I = np.array([[1, 0, 0, 0],\n",
        "              [0, 1, 0, 0],\n",
        "              [0, 0, 1, 0],\n",
        "              [0, 0, 0, 1]])\n",
        "\n",
        "print(\"Matriz Identidade:\\n\", I)\n",
        "print('É identidade? ' + str(np.allclose(I, np.eye(A.shape[0]))))"
      ],
      "metadata": {
        "colab": {
          "base_uri": "https://localhost:8080/"
        },
        "id": "uR88F5LGQq2a",
        "outputId": "74f4a005-7c6d-4516-831f-39804f09f9ad"
      },
      "execution_count": null,
      "outputs": [
        {
          "output_type": "stream",
          "name": "stdout",
          "text": [
            "Matriz Identidade:\n",
            " [[1 0 0 0]\n",
            " [0 1 0 0]\n",
            " [0 0 1 0]\n",
            " [0 0 0 1]]\n",
            "É identidade? True\n"
          ]
        }
      ]
    },
    {
      "cell_type": "code",
      "source": [
        "I = np.identity(10, int)\n",
        "\n",
        "print(\"Matriz Identidade:\\n\", I)\n",
        "print('É identidade? ' + str(np.allclose(I, np.eye(I.shape[0]))))"
      ],
      "metadata": {
        "colab": {
          "base_uri": "https://localhost:8080/"
        },
        "id": "PtqiGQbRd2UI",
        "outputId": "2bac8bb3-b42d-4528-dae6-d8a3790d236a"
      },
      "execution_count": null,
      "outputs": [
        {
          "output_type": "stream",
          "name": "stdout",
          "text": [
            "Matriz Identidade:\n",
            " [[1 0 0 0 0 0 0 0 0 0]\n",
            " [0 1 0 0 0 0 0 0 0 0]\n",
            " [0 0 1 0 0 0 0 0 0 0]\n",
            " [0 0 0 1 0 0 0 0 0 0]\n",
            " [0 0 0 0 1 0 0 0 0 0]\n",
            " [0 0 0 0 0 1 0 0 0 0]\n",
            " [0 0 0 0 0 0 1 0 0 0]\n",
            " [0 0 0 0 0 0 0 1 0 0]\n",
            " [0 0 0 0 0 0 0 0 1 0]\n",
            " [0 0 0 0 0 0 0 0 0 1]]\n",
            "É identidade? True\n"
          ]
        }
      ]
    },
    {
      "cell_type": "code",
      "source": [
        "I = np.eye(4)\n",
        "print(\"Matriz Identidade:\\n\", I)"
      ],
      "metadata": {
        "colab": {
          "base_uri": "https://localhost:8080/"
        },
        "id": "nmIDcTdxbnNI",
        "outputId": "2d0da464-d126-4bcb-8282-ea6e9c9c35a9"
      },
      "execution_count": null,
      "outputs": [
        {
          "output_type": "stream",
          "name": "stdout",
          "text": [
            "Matriz Identidade:\n",
            " [[1. 0. 0. 0.]\n",
            " [0. 1. 0. 0.]\n",
            " [0. 0. 1. 0.]\n",
            " [0. 0. 0. 1.]]\n"
          ]
        }
      ]
    },
    {
      "cell_type": "code",
      "source": [
        "# Matriz Escalar\n",
        "A = 3 * I\n",
        "print(A)"
      ],
      "metadata": {
        "colab": {
          "base_uri": "https://localhost:8080/"
        },
        "id": "FFIZDoPteVyP",
        "outputId": "2065c7c2-8ff8-46cd-a72f-b9bad78e2715"
      },
      "execution_count": null,
      "outputs": [
        {
          "output_type": "stream",
          "name": "stdout",
          "text": [
            "[[3. 0. 0. 0.]\n",
            " [0. 3. 0. 0.]\n",
            " [0. 0. 3. 0.]\n",
            " [0. 0. 0. 3.]]\n"
          ]
        }
      ]
    },
    {
      "cell_type": "code",
      "source": [
        "# Matriz Escalar\n",
        "E = 3 * np.eye(3)\n",
        "print(\"Matriz Escalar (3 * Identidade):\\n\", E)"
      ],
      "metadata": {
        "colab": {
          "base_uri": "https://localhost:8080/"
        },
        "id": "aqeIoIwKcCL6",
        "outputId": "65547130-2d9f-4e9f-a764-05b56aac96a9"
      },
      "execution_count": null,
      "outputs": [
        {
          "output_type": "stream",
          "name": "stdout",
          "text": [
            "Matriz Escalar (3 * Identidade):\n",
            " [[3. 0. 0.]\n",
            " [0. 3. 0.]\n",
            " [0. 0. 3.]]\n"
          ]
        }
      ]
    },
    {
      "cell_type": "markdown",
      "source": [
        "**Matriz Triangular Inferior e Superior**"
      ],
      "metadata": {
        "id": "C5VXuP__cFBY"
      }
    },
    {
      "cell_type": "code",
      "source": [
        "T_inf = np.tril([\n",
        "    [1, 2, 3],\n",
        "    [4, 5, 6],\n",
        "    [7, 8, 9]\n",
        "])\n",
        "print(\"Matriz Triangular Inferior:\\n\", T_inf)"
      ],
      "metadata": {
        "colab": {
          "base_uri": "https://localhost:8080/"
        },
        "id": "Bf_z5qiXcH0_",
        "outputId": "edef6a26-468f-4f3f-c5e8-5c8124939e18"
      },
      "execution_count": null,
      "outputs": [
        {
          "output_type": "stream",
          "name": "stdout",
          "text": [
            "Matriz Triangular Inferior:\n",
            " [[1 0 0]\n",
            " [4 5 0]\n",
            " [7 8 9]]\n"
          ]
        }
      ]
    },
    {
      "cell_type": "code",
      "source": [
        "T_sup = np.triu([\n",
        "    [1, 2, 3],\n",
        "    [4, 5, 6],\n",
        "    [7, 8, 9]\n",
        "])\n",
        "print(\"Matriz Triangular Superior:\\n\", T_sup)"
      ],
      "metadata": {
        "colab": {
          "base_uri": "https://localhost:8080/"
        },
        "id": "BpFVmpDWcH-M",
        "outputId": "286134ee-1013-4b48-b1db-395ebe05a5dd"
      },
      "execution_count": null,
      "outputs": [
        {
          "output_type": "stream",
          "name": "stdout",
          "text": [
            "Matriz Triangular Superior:\n",
            " [[1 2 3]\n",
            " [0 5 6]\n",
            " [0 0 9]]\n"
          ]
        }
      ]
    },
    {
      "cell_type": "markdown",
      "source": [
        "**Matriz Linha e Matriz Coluna**"
      ],
      "metadata": {
        "id": "C5vKYP7qcPFf"
      }
    },
    {
      "cell_type": "code",
      "source": [
        "linha = np.array([\n",
        "    [1, 2, 3]\n",
        "])\n",
        "print(\"Matriz Linha:\\n\", linha)\n",
        "print(\"Shape:\", linha.shape)"
      ],
      "metadata": {
        "colab": {
          "base_uri": "https://localhost:8080/"
        },
        "id": "ZRs94wbJcUuI",
        "outputId": "e4d51bfb-93cb-4e55-cd1b-589547675247"
      },
      "execution_count": null,
      "outputs": [
        {
          "output_type": "stream",
          "name": "stdout",
          "text": [
            "Matriz Linha:\n",
            " [[1 2 3]]\n",
            "Shape: (1, 3)\n"
          ]
        }
      ]
    },
    {
      "cell_type": "code",
      "source": [
        "coluna = np.array([\n",
        "    [1],\n",
        "    [2],\n",
        "    [3]\n",
        "])\n",
        "print(\"Matriz Coluna:\\n\", coluna)\n",
        "print(\"Shape:\", coluna.shape)\n"
      ],
      "metadata": {
        "colab": {
          "base_uri": "https://localhost:8080/"
        },
        "id": "1Fln8XWocVjz",
        "outputId": "6f9684a1-a097-415f-ec61-90d7ee98c39c"
      },
      "execution_count": null,
      "outputs": [
        {
          "output_type": "stream",
          "name": "stdout",
          "text": [
            "Matriz Coluna:\n",
            " [[1]\n",
            " [2]\n",
            " [3]]\n",
            "Shape: (3, 1)\n"
          ]
        }
      ]
    },
    {
      "cell_type": "markdown",
      "source": [
        "# 3. Operações com Matrizes\n",
        "\n",
        "**Operações Básicas:**\n",
        "Adição e Multiplicação por escalar\n",
        "\n",
        "**Produto Matricial:**\n",
        "Operação entre duas matrizes que resulta em uma terceira matriz."
      ],
      "metadata": {
        "id": "UeGZVm0ErSSk"
      }
    },
    {
      "cell_type": "markdown",
      "source": [
        "**Adição de Matrizes**"
      ],
      "metadata": {
        "id": "YAwuW2qjTN0c"
      }
    },
    {
      "cell_type": "code",
      "source": [
        "A = np.array([\n",
        "    [1, 2],\n",
        "    [3, 4]\n",
        "])\n",
        "\n",
        "B = np.array([\n",
        "    [5, 6],\n",
        "    [7, 8]\n",
        "])\n",
        "\n",
        "print(\"A + B:\\n\", A + B)\n"
      ],
      "metadata": {
        "colab": {
          "base_uri": "https://localhost:8080/"
        },
        "id": "2-bz4i8qecsk",
        "outputId": "e17d8c08-7a2e-41d1-d17b-96cf953f26cb"
      },
      "execution_count": null,
      "outputs": [
        {
          "output_type": "stream",
          "name": "stdout",
          "text": [
            "A + B:\n",
            " [[ 6  8]\n",
            " [10 12]]\n"
          ]
        }
      ]
    },
    {
      "cell_type": "code",
      "source": [
        "# Erro em adição de dimensões diferentes\n",
        "try:\n",
        "    A = np.ones((2, 3))\n",
        "    B = np.ones((3, 2))\n",
        "    A + B\n",
        "except ValueError as e:\n",
        "    print(\"Erro esperado ao somar matrizes incompatíveis:\", e)\n"
      ],
      "metadata": {
        "colab": {
          "base_uri": "https://localhost:8080/"
        },
        "id": "VFYyPMPMaBHu",
        "outputId": "290aea05-7459-4d2f-d0f8-b9cd847d24b0"
      },
      "execution_count": null,
      "outputs": [
        {
          "output_type": "stream",
          "name": "stdout",
          "text": [
            "Erro esperado ao somar matrizes incompatíveis: operands could not be broadcast together with shapes (2,3) (3,2) \n"
          ]
        }
      ]
    },
    {
      "cell_type": "markdown",
      "source": [
        "**Multiplicação por escalar**"
      ],
      "metadata": {
        "id": "F5v5ZSUwaZmG"
      }
    },
    {
      "cell_type": "code",
      "source": [
        "A = np.array([\n",
        "    [1, 2],\n",
        "    [3, 4]\n",
        "])\n",
        "print(\"3 * A:\\n\", 3 * A)\n"
      ],
      "metadata": {
        "colab": {
          "base_uri": "https://localhost:8080/"
        },
        "id": "RmduZN3eTTsz",
        "outputId": "945a1bae-c531-4ef0-b384-f24f89c1b3c5"
      },
      "execution_count": null,
      "outputs": [
        {
          "output_type": "stream",
          "name": "stdout",
          "text": [
            "3 * A:\n",
            " [[ 3  6]\n",
            " [ 9 12]]\n"
          ]
        }
      ]
    },
    {
      "cell_type": "markdown",
      "source": [
        "**Produto Matricial**"
      ],
      "metadata": {
        "id": "hIPwBPqGTgFj"
      }
    },
    {
      "cell_type": "code",
      "source": [
        "A = np.array([\n",
        "    [1, 2, 5],\n",
        "    [3, 4, 0]\n",
        "])\n",
        "\n",
        "B = np.array([\n",
        "    [5, 6],\n",
        "    [7, 8],\n",
        "    [1, 99]\n",
        "])"
      ],
      "metadata": {
        "id": "3t9pvpzCdG_f"
      },
      "execution_count": null,
      "outputs": []
    },
    {
      "cell_type": "code",
      "source": [
        "C = A @ B\n",
        "D = B @ A\n",
        "\n",
        "print('Matriz C')\n",
        "print(C)\n",
        "print('\\nshape:', C.shape)\n",
        "\n",
        "print('\\nMatriz D')\n",
        "print(D)\n",
        "print('\\nshape:', D.shape)"
      ],
      "metadata": {
        "colab": {
          "base_uri": "https://localhost:8080/"
        },
        "id": "v-1zRBUUrws8",
        "outputId": "0ee1feab-a509-4e09-db3c-9c58afb934c4"
      },
      "execution_count": null,
      "outputs": [
        {
          "output_type": "stream",
          "name": "stdout",
          "text": [
            "Matriz C\n",
            "[[ 24 517]\n",
            " [ 43  50]]\n",
            "\n",
            "shape: (2, 2)\n",
            "\n",
            "Matriz D\n",
            "[[ 23  34  25]\n",
            " [ 31  46  35]\n",
            " [298 398   5]]\n",
            "\n",
            "shape: (3, 3)\n"
          ]
        }
      ]
    },
    {
      "cell_type": "code",
      "source": [
        "A = np.array([\n",
        "    [1, 2],\n",
        "    [3, 4]\n",
        "])\n",
        "\n",
        "B = np.array([\n",
        "    [5, 6],\n",
        "    [7, 8]\n",
        "])\n",
        "\n",
        "print(\"A * B (element-wise):\\n\", A * B)\n",
        "print(\"A @ B (produto matricial):\\n\", A @ B)"
      ],
      "metadata": {
        "colab": {
          "base_uri": "https://localhost:8080/"
        },
        "id": "a1yS1WRUajsf",
        "outputId": "88617777-146a-4bf9-86d0-d0cd364c4558"
      },
      "execution_count": null,
      "outputs": [
        {
          "output_type": "stream",
          "name": "stdout",
          "text": [
            "A * B (element-wise):\n",
            " [[ 5 12]\n",
            " [21 32]]\n",
            "A @ B (produto matricial):\n",
            " [[19 22]\n",
            " [43 50]]\n"
          ]
        }
      ]
    },
    {
      "cell_type": "code",
      "source": [
        "A.dot(B)"
      ],
      "metadata": {
        "colab": {
          "base_uri": "https://localhost:8080/"
        },
        "id": "7lo1Dq0carE2",
        "outputId": "c6bd2e35-aebe-433f-9913-b31b0b7d7879"
      },
      "execution_count": null,
      "outputs": [
        {
          "output_type": "execute_result",
          "data": {
            "text/plain": [
              "array([[19, 22],\n",
              "       [43, 50]])"
            ]
          },
          "metadata": {},
          "execution_count": 152
        }
      ]
    },
    {
      "cell_type": "markdown",
      "source": [
        "# 4. Propriedades das Operações"
      ],
      "metadata": {
        "id": "nMXY1iTia89X"
      }
    },
    {
      "cell_type": "markdown",
      "source": [
        "**Distributiva: A @ (B + C) = A @ B + A @ C**"
      ],
      "metadata": {
        "id": "hMdNitDEbGUq"
      }
    },
    {
      "cell_type": "code",
      "source": [
        "A = np.array([\n",
        "    [1, 2, 0]\n",
        "])\n",
        "\n",
        "B = np.array([\n",
        "    [1, 0],\n",
        "    [0, 1],\n",
        "    [1, 1]\n",
        "])\n",
        "\n",
        "C = np.array([\n",
        "    [2, 1],\n",
        "    [1, 0],\n",
        "    [0, 1]\n",
        "])\n",
        "\n",
        "esq = A @ (B + C)\n",
        "dir = (A @ B) + (A @ C)\n",
        "\n",
        "print(\"A @ (B + C):\\n\", esq)\n",
        "print(\"A @ B + A @ C:\\n\", dir)\n",
        "print(\"Distributiva confirmada?\", np.allclose(esq, dir))"
      ],
      "metadata": {
        "colab": {
          "base_uri": "https://localhost:8080/"
        },
        "id": "RRe3vivzbEtO",
        "outputId": "27282965-ad33-45d3-bd4c-eb8040fa3b5e"
      },
      "execution_count": null,
      "outputs": [
        {
          "output_type": "stream",
          "name": "stdout",
          "text": [
            "A @ (B + C):\n",
            " [[5 3]]\n",
            "A @ B + A @ C:\n",
            " [[5 3]]\n",
            "Distributiva confirmada? True\n"
          ]
        }
      ]
    },
    {
      "cell_type": "markdown",
      "source": [
        "**Associativa: (A @ B) @ C = A @ (B @ C)**"
      ],
      "metadata": {
        "id": "CErarYKFbJ_h"
      }
    },
    {
      "cell_type": "code",
      "source": [
        "A = np.array([\n",
        "    [1, 2],\n",
        "    [3, 4]\n",
        "])\n",
        "\n",
        "B = np.array([\n",
        "    [2, 0],\n",
        "    [1, 2]\n",
        "])\n",
        "\n",
        "C = np.array([\n",
        "    [1, 1],\n",
        "    [0, 1]\n",
        "])\n",
        "\n",
        "print(\"Associativa confirmada?\", np.allclose((A @ B) @ C, A @ (B @ C)))"
      ],
      "metadata": {
        "colab": {
          "base_uri": "https://localhost:8080/"
        },
        "id": "GOpwQ08obL2r",
        "outputId": "6366c7c8-8373-4829-84dc-c671b2b45e8e"
      },
      "execution_count": null,
      "outputs": [
        {
          "output_type": "stream",
          "name": "stdout",
          "text": [
            "Associativa confirmada? True\n"
          ]
        }
      ]
    },
    {
      "cell_type": "markdown",
      "source": [
        "**Multiplicação por Identidade**"
      ],
      "metadata": {
        "id": "BmG9NFGKbNl6"
      }
    },
    {
      "cell_type": "code",
      "source": [
        "A = np.array([\n",
        "    [2, 3],\n",
        "    [4, 5]\n",
        "])\n",
        "\n",
        "I = np.eye(A.shape[0])\n",
        "\n",
        "print(\"A @ I:\\n\", A @ I)\n",
        "print(\"A @ I == A ?\", np.allclose(A @ I, A))\n"
      ],
      "metadata": {
        "colab": {
          "base_uri": "https://localhost:8080/"
        },
        "id": "RrLqI6sAbPqB",
        "outputId": "eea8a6fe-e889-4ea4-f75f-99130ead0d65"
      },
      "execution_count": null,
      "outputs": [
        {
          "output_type": "stream",
          "name": "stdout",
          "text": [
            "A @ I:\n",
            " [[2. 3.]\n",
            " [4. 5.]]\n",
            "A @ I == A ? True\n"
          ]
        }
      ]
    },
    {
      "cell_type": "markdown",
      "source": [
        "# 6. Matriz Transposta e Matriz Simétrica\n"
      ],
      "metadata": {
        "id": "-MBkeX-ubSIj"
      }
    },
    {
      "cell_type": "markdown",
      "source": [
        "**Transposta:** Matriz $A^T$ onde as linhas correspondem às colunas de $A$.\n",
        "\n",
        "\n",
        "Podemos ainda classificar as matrizes como:\n",
        "\n",
        "**Matriz simétrica:** Quando $A = A^T$."
      ],
      "metadata": {
        "id": "aieOkx17ubXO"
      }
    },
    {
      "cell_type": "code",
      "source": [
        "A = np.array([\n",
        "    [1, 2, 3],\n",
        "    [4, 5, 6]\n",
        "])\n",
        "\n",
        "print(\"Matriz A:\\n\", A)\n",
        "print(\"Transposta de A:\\n\", A.T)"
      ],
      "metadata": {
        "colab": {
          "base_uri": "https://localhost:8080/"
        },
        "id": "WUd8cB-0uZvW",
        "outputId": "233c4176-06fd-4cf8-c972-a0b5dbc4a015"
      },
      "execution_count": null,
      "outputs": [
        {
          "output_type": "stream",
          "name": "stdout",
          "text": [
            "Matriz A:\n",
            " [[1 2 3]\n",
            " [4 5 6]]\n",
            "Transposta de A:\n",
            " [[1 4]\n",
            " [2 5]\n",
            " [3 6]]\n"
          ]
        }
      ]
    },
    {
      "cell_type": "code",
      "source": [
        "S = np.array([\n",
        "    [1, 4, 5],\n",
        "    [4, 2, 6],\n",
        "    [5, 6, 3]\n",
        "])\n",
        "\n",
        "print(\"Matriz Simétrica:\\n\", S)\n",
        "print(\"Transposta de S:\\n\", S.T)\n",
        "print(\"É simétrica?\", np.allclose(S, S.T))"
      ],
      "metadata": {
        "colab": {
          "base_uri": "https://localhost:8080/"
        },
        "id": "7rVTRLMbbjnK",
        "outputId": "81d91d61-6590-4a5e-a47f-476ee917180d"
      },
      "execution_count": null,
      "outputs": [
        {
          "output_type": "stream",
          "name": "stdout",
          "text": [
            "Matriz Simétrica:\n",
            " [[1 4 5]\n",
            " [4 2 6]\n",
            " [5 6 3]]\n",
            "Transposta de S:\n",
            " [[1 4 5]\n",
            " [4 2 6]\n",
            " [5 6 3]]\n",
            "É simétrica? True\n"
          ]
        }
      ]
    },
    {
      "cell_type": "code",
      "source": [
        "(S == S.T).all()"
      ],
      "metadata": {
        "colab": {
          "base_uri": "https://localhost:8080/"
        },
        "id": "zB4gYOIPu-Pa",
        "outputId": "1533e402-d8aa-4bd9-89e7-16a02b524eb7"
      },
      "execution_count": null,
      "outputs": [
        {
          "output_type": "execute_result",
          "data": {
            "text/plain": [
              "np.True_"
            ]
          },
          "metadata": {},
          "execution_count": 158
        }
      ]
    },
    {
      "cell_type": "markdown",
      "source": [
        "# 7. Recursos e Operações do NumPy\n"
      ],
      "metadata": {
        "id": "QXzdim6A01Ip"
      }
    },
    {
      "cell_type": "code",
      "source": [
        "# Criação e propriedades básicas de arrays\n",
        "\n",
        "A = np.array([1, 2, 3, 4, 5, 6])\n",
        "\n",
        "print(\"Array A:\", A)\n",
        "print(\"Dimensões (ndim):\", A.ndim)\n",
        "print(\"Shape:\", A.shape)\n",
        "print(\"Tamanho total (size):\", A.size)\n",
        "print(\"Tipo de dados (dtype):\", A.dtype)\n",
        "print(\"Bytes por elemento:\", A.itemsize)"
      ],
      "metadata": {
        "colab": {
          "base_uri": "https://localhost:8080/"
        },
        "id": "tMSfpKdwcInE",
        "outputId": "03f497f0-2758-4315-893d-9050f344f8a6"
      },
      "execution_count": null,
      "outputs": [
        {
          "output_type": "stream",
          "name": "stdout",
          "text": [
            "Array A: [1 2 3 4 5 6]\n",
            "Dimensões (ndim): 1\n",
            "Shape: (6,)\n",
            "Tamanho total (size): 6\n",
            "Tipo de dados (dtype): int64\n",
            "Bytes por elemento: 8\n"
          ]
        }
      ]
    },
    {
      "cell_type": "code",
      "source": [
        "# Matriz com tipo específico\n",
        "\n",
        "B = np.array([\n",
        "    [1, 2, 3],\n",
        "    [4, 5, 6]\n",
        "], dtype=np.float64)\n",
        "\n",
        "print(\"Matriz B:\\n\", B)\n",
        "print(\"Dimensões:\", B.ndim)\n",
        "print(\"Shape:\", B.shape)"
      ],
      "metadata": {
        "colab": {
          "base_uri": "https://localhost:8080/"
        },
        "id": "K6JPhmmdcTV_",
        "outputId": "6a2df9be-3e67-4d79-d205-0fe69b800f6a"
      },
      "execution_count": null,
      "outputs": [
        {
          "output_type": "stream",
          "name": "stdout",
          "text": [
            "Matriz B:\n",
            " [[1. 2. 3.]\n",
            " [4. 5. 6.]]\n",
            "Dimensões: 2\n",
            "Shape: (2, 3)\n"
          ]
        }
      ]
    },
    {
      "cell_type": "code",
      "source": [
        "# Criação de matrizes especiais\n",
        "\n",
        "A = np.zeros((3, 2), dtype=np.int64)  # Matriz de zeros\n",
        "print(\"Matriz de zeros:\\n\", A)\n",
        "\n",
        "B = np.ones((3, 2))  # Matriz de uns\n",
        "print(\"Matriz de uns:\\n\", B)\n",
        "print(\"Tipo dos dados de B:\", B.dtype)\n",
        "\n",
        "C = np.full((2, 2), 10)  # Matriz preenchida com 10\n",
        "print(\"Matriz cheia com 10:\\n\", C)"
      ],
      "metadata": {
        "colab": {
          "base_uri": "https://localhost:8080/"
        },
        "id": "Z_3Ccky_cSvm",
        "outputId": "61a11038-f357-4526-bd83-e6f3c9316157"
      },
      "execution_count": null,
      "outputs": [
        {
          "output_type": "stream",
          "name": "stdout",
          "text": [
            "Matriz de zeros:\n",
            " [[0 0]\n",
            " [0 0]\n",
            " [0 0]]\n",
            "Matriz de uns:\n",
            " [[1. 1.]\n",
            " [1. 1.]\n",
            " [1. 1.]]\n",
            "Tipo dos dados de B: float64\n",
            "Matriz cheia com 10:\n",
            " [[10 10]\n",
            " [10 10]]\n"
          ]
        }
      ]
    },
    {
      "cell_type": "code",
      "source": [
        "# Sequências numéricas\n",
        "\n",
        "D = np.arange(0, 20, 2)  # Sequência com passo 2\n",
        "print(\"arange 0–20:\\n\", D)\n",
        "\n",
        "E = np.arange(0, 1, 0.1)  # Sequência com passo decimal\n",
        "print(\"arange 0–1 com passo 0.1:\\n\", E)\n",
        "\n",
        "F = np.linspace(0, 0.9, 10)  # 10 valores entre 0 e 0.9\n",
        "print(\"linspace 0–0.9 (10 pontos):\\n\", F)"
      ],
      "metadata": {
        "colab": {
          "base_uri": "https://localhost:8080/"
        },
        "id": "nyg3vDFccZuw",
        "outputId": "79befe9b-4182-456d-9d27-1cc46b7ac1b3"
      },
      "execution_count": null,
      "outputs": [
        {
          "output_type": "stream",
          "name": "stdout",
          "text": [
            "arange 0–20:\n",
            " [ 0  2  4  6  8 10 12 14 16 18]\n",
            "arange 0–1 com passo 0.1:\n",
            " [0.  0.1 0.2 0.3 0.4 0.5 0.6 0.7 0.8 0.9]\n",
            "linspace 0–0.9 (10 pontos):\n",
            " [0.  0.1 0.2 0.3 0.4 0.5 0.6 0.7 0.8 0.9]\n"
          ]
        }
      ]
    },
    {
      "cell_type": "code",
      "source": [
        "# Valores aleatórios\n",
        "\n",
        "G = np.random.rand(3, 2)  # Aleatórios [0,1)\n",
        "print(\"Aleatórios uniformes:\\n\", G)\n",
        "\n",
        "H = np.random.randint(0, 10, size=(3, 2))  # Inteiros aleatórios\n",
        "print(\"Aleatórios inteiros 0–9:\\n\", H)"
      ],
      "metadata": {
        "colab": {
          "base_uri": "https://localhost:8080/"
        },
        "id": "4MWJGxZiclff",
        "outputId": "135c1f0f-7ca9-4b8a-b953-7b461c9e8246"
      },
      "execution_count": null,
      "outputs": [
        {
          "output_type": "stream",
          "name": "stdout",
          "text": [
            "Aleatórios uniformes:\n",
            " [[0.833331   0.37305892]\n",
            " [0.09640119 0.28974862]\n",
            " [0.04005777 0.17674886]]\n",
            "Aleatórios inteiros 0–9:\n",
            " [[5 8]\n",
            " [7 3]\n",
            " [6 1]]\n"
          ]
        }
      ]
    },
    {
      "cell_type": "code",
      "source": [
        "# Operações elemento a elemento\n",
        "\n",
        "a = np.array([10, 20, 30, 40])\n",
        "b = np.arange(4)\n",
        "\n",
        "print(\"Vetor a:\", a)\n",
        "print(\"Vetor b:\", b)\n",
        "\n",
        "c = a - b\n",
        "print(\"a - b:\", c)\n",
        "\n",
        "d = b**2\n",
        "print(\"b ao quadrado:\", d)\n",
        "\n",
        "e = 10 * np.sin(a)\n",
        "print(\"10 * sin(a):\", e)"
      ],
      "metadata": {
        "colab": {
          "base_uri": "https://localhost:8080/"
        },
        "id": "dlJToMdVcpvf",
        "outputId": "c642bf72-a27f-4ece-b2bd-06517ec28cc6"
      },
      "execution_count": null,
      "outputs": [
        {
          "output_type": "stream",
          "name": "stdout",
          "text": [
            "Vetor a: [10 20 30 40]\n",
            "Vetor b: [0 1 2 3]\n",
            "a - b: [10 19 28 37]\n",
            "b ao quadrado: [0 1 4 9]\n",
            "10 * sin(a): [-5.44021111  9.12945251 -9.88031624  7.4511316 ]\n"
          ]
        }
      ]
    },
    {
      "cell_type": "code",
      "source": [
        "# Comparação e conversão booleana\n",
        "\n",
        "f = a < 35\n",
        "print(\"a < 35:\", f)\n",
        "print(\"Tipo lógico:\", f.dtype)\n",
        "\n",
        "g = f * 1  # Converte bool para int (True → 1, False → 0)\n",
        "print(\"Conversão para inteiro:\", g)\n",
        "print(\"Tipo de g:\", g.dtype)"
      ],
      "metadata": {
        "colab": {
          "base_uri": "https://localhost:8080/"
        },
        "id": "52foTEjDctr0",
        "outputId": "f871a68c-2d50-46e1-8704-591e2d987ad3"
      },
      "execution_count": null,
      "outputs": [
        {
          "output_type": "stream",
          "name": "stdout",
          "text": [
            "a < 35: [ True  True  True False]\n",
            "Tipo lógico: bool\n",
            "Conversão para inteiro: [1 1 1 0]\n",
            "Tipo de g: int64\n"
          ]
        }
      ]
    },
    {
      "cell_type": "markdown",
      "source": [
        "# Tensores\n",
        "\n",
        "<img src='https://www.researchgate.net/profile/Dmytro-Shulga/publication/332263806/figure/fig3/AS:745257088086019@1554694544935/Tensors-as-generalizations-of-scalars-vectors-and-matrices.png' heigth=\"250px\">\n"
      ],
      "metadata": {
        "id": "sGcQvEpmNvLu"
      }
    },
    {
      "cell_type": "code",
      "source": [
        "A = np.array([\n",
        "    [\n",
        "        [1, 1, 3],\n",
        "        [0, 1, 2],\n",
        "        [1, 0, 1]\n",
        "    ],\n",
        "    [\n",
        "        [1, 4, 1],\n",
        "        [0, 2, 1],\n",
        "        [0, 0, 2]\n",
        "    ],\n",
        "    [\n",
        "        [2, 1, 0],\n",
        "        [1, 1, 0],\n",
        "        [1, 0, 4]\n",
        "    ]\n",
        "])\n",
        "\n",
        "print(\"Tensor A:\\n\", A)\n",
        "print(\"Shape do tensor:\", A.shape)"
      ],
      "metadata": {
        "colab": {
          "base_uri": "https://localhost:8080/"
        },
        "id": "fyzPqilr2Fq5",
        "outputId": "3c0556c3-65b6-437e-cfe4-f43d22e10e5b"
      },
      "execution_count": null,
      "outputs": [
        {
          "output_type": "stream",
          "name": "stdout",
          "text": [
            "Tensor A:\n",
            " [[[1 1 3]\n",
            "  [0 1 2]\n",
            "  [1 0 1]]\n",
            "\n",
            " [[1 4 1]\n",
            "  [0 2 1]\n",
            "  [0 0 2]]\n",
            "\n",
            " [[2 1 0]\n",
            "  [1 1 0]\n",
            "  [1 0 4]]]\n",
            "Shape do tensor: (3, 3, 3)\n"
          ]
        }
      ]
    },
    {
      "cell_type": "markdown",
      "source": [
        "# LIVE EVIL: Ordem da Transposição em Produto de Matrizes\n",
        "\n",
        "A regra do **LIVE EVIL** é um mnemônico para lembrar como funciona a transposição de produtos de matrizes.  \n",
        "Ela nos diz que:\n",
        "\n",
        "$$\n",
        "(L \\cdot I \\cdot V \\cdot E)^T = E^T \\cdot V^T \\cdot I^T \\cdot L^T\n",
        "$$\n",
        "\n",
        "Ou seja, ao transpor um produto de matrizes, **invertemos a ordem** e transpomos **cada matriz individualmente**.\n",
        "\n",
        "Vamos testar isso com um exemplo prático usando NumPy:\n"
      ],
      "metadata": {
        "id": "Mg2dXI12gyx2"
      }
    },
    {
      "cell_type": "code",
      "source": [
        "L = np.array([[1, 2],\n",
        "              [3, 4]])\n",
        "\n",
        "I = np.array([[0, 1],\n",
        "              [1, 0]])\n",
        "\n",
        "V = np.array([[2, 0],\n",
        "              [0, 2]])\n",
        "\n",
        "E = np.array([[1, -1],\n",
        "              [1,  1]])\n",
        "\n",
        "# Produto direto: LIVE\n",
        "LIVE = L @ I @ V @ E\n",
        "\n",
        "# Transposta do produto\n",
        "LIVE_T = LIVE.T\n",
        "\n",
        "# Produto dos transpostos na ordem invertida: E^T V^T I^T L^T\n",
        "rule_T = E.T @ V.T @ I.T @ L.T\n",
        "\n",
        "# Verificação\n",
        "print(\"LIVE^T:\\n\", LIVE_T)\n",
        "print(\"\\nE^T V^T I^T L^T:\\n\", rule_T)\n",
        "\n",
        "# Verifica se são iguais\n",
        "print(\"\\nSão iguais?\", np.allclose(LIVE_T, rule_T))"
      ],
      "metadata": {
        "colab": {
          "base_uri": "https://localhost:8080/"
        },
        "id": "M2zWe-0WgtFi",
        "outputId": "42451eeb-4319-452c-dfe7-7c935f519efd"
      },
      "execution_count": null,
      "outputs": [
        {
          "output_type": "stream",
          "name": "stdout",
          "text": [
            "LIVE^T:\n",
            " [[ 6 14]\n",
            " [-2 -2]]\n",
            "\n",
            "E^T V^T I^T L^T:\n",
            " [[ 6 14]\n",
            " [-2 -2]]\n",
            "\n",
            "São iguais? True\n"
          ]
        }
      ]
    },
    {
      "cell_type": "code",
      "source": [],
      "metadata": {
        "id": "QpS5aiOdhBFy"
      },
      "execution_count": null,
      "outputs": []
    }
  ]
}